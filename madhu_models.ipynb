{
 "cells": [
  {
   "cell_type": "code",
   "execution_count": 87,
   "metadata": {
    "collapsed": true
   },
   "outputs": [],
   "source": [
    "%matplotlib inline\n",
    "import pandas as pd\n",
    "import numpy as np\n",
    "import matplotlib.pyplot as plt\n",
    "from sklearn.linear_model import LinearRegression, Ridge, RidgeCV, Lasso, LassoCV, ElasticNet, ElasticNetCV\n",
    "from sklearn.ensemble import RandomForestRegressor\n",
    "from sklearn.metrics import mean_squared_error\n",
    "import cPickle as pickle\n",
    "import csv\n",
    "from collections import Counter\n",
    "import rdkit.Chem.AllChem"
   ]
  },
  {
   "cell_type": "code",
   "execution_count": 2,
   "metadata": {
    "collapsed": true
   },
   "outputs": [],
   "source": [
    "column_names = pickle.load(open('column_names.p', 'rb'))"
   ]
  },
  {
   "cell_type": "code",
   "execution_count": null,
   "metadata": {
    "collapsed": true
   },
   "outputs": [],
   "source": [
    "%%time\n",
    "df_train = pd.read_csv('array_touse_train.csv', names=column_names)"
   ]
  },
  {
   "cell_type": "code",
   "execution_count": 38,
   "metadata": {
    "collapsed": false
   },
   "outputs": [
    {
     "name": "stdout",
     "output_type": "stream",
     "text": [
      "Wall time: 11.5 s\n"
     ]
    }
   ],
   "source": [
    "%%time\n",
    "with open('val_train_split.csv', 'rb') as f:\n",
    "    reader = csv.reader(f)\n",
    "    valid_mask = map(lambda lst : int(float(lst[0])) == 0, list(reader))\n",
    "print len(valid_mask)\n",
    "print sum(valid_mask)"
   ]
  },
  {
   "cell_type": "code",
   "execution_count": null,
   "metadata": {
    "collapsed": true
   },
   "outputs": [],
   "source": [
    "df_valid = df_train.loc[valid_mask]\n",
    "df_train = df_train.loc[~valid_mask]"
   ]
  },
  {
   "cell_type": "code",
   "execution_count": null,
   "metadata": {
    "collapsed": true
   },
   "outputs": [],
   "source": []
  },
  {
   "cell_type": "code",
   "execution_count": 51,
   "metadata": {
    "collapsed": false
   },
   "outputs": [],
   "source": [
    "# LOAD GAP HERE SOMEHOW, INTO AN ARRAY CALLED Y_TRAIN AND AN ARRAY CALLED Y_VALID"
   ]
  },
  {
   "cell_type": "code",
   "execution_count": null,
   "metadata": {
    "collapsed": true
   },
   "outputs": [],
   "source": [
    "X_train = df_train.values\n",
    "X_valid = df_valid.values"
   ]
  },
  {
   "cell_type": "code",
   "execution_count": null,
   "metadata": {
    "collapsed": true
   },
   "outputs": [],
   "source": []
  },
  {
   "cell_type": "code",
   "execution_count": null,
   "metadata": {
    "collapsed": true
   },
   "outputs": [],
   "source": [
    "%%time\n",
    "LR = LinearRegression()\n",
    "LR.fit(X_train, Y_train)\n",
    "rmse_linear = mean_squared_error(Y_valid, LR.predict(X_valid))\n",
    "print rmse_linear"
   ]
  },
  {
   "cell_type": "code",
   "execution_count": null,
   "metadata": {
    "collapsed": true
   },
   "outputs": [],
   "source": [
    "%%time\n",
    "alphas = [0.00001, 0.0001, 0.001, 0.01, 0.1, 1, 10, 100, 1000]\n",
    "RR = RidgeCV(alphas=alphas, store_cv_values=True)\n",
    "RR.fit(X_train, Y_train)\n",
    "best_alpha = RR.alpha_\n",
    "print 'Optimal alpha:', best_alpha\n",
    "plt.plot(np.log(alphas), RR.cv_values_.mean(axis=0))\n",
    "plt.xlabel('log(alpha)')\n",
    "plt.ylabel('mean squared error')\n",
    "\n",
    "RR = RidgeCV(alphas = [best_alpha*0.3, best_alpha, best_alpha*3])\n",
    "RR.fit(X_train, Y_train)\n",
    "best_alpha = RR.alpha_\n",
    "print 'New optimal alpha:', best_alpha\n",
    "\n",
    "rmse_ridge = mean_squared_error(Y_valid, RR.predict(X_valid))\n",
    "print rmse_ridge"
   ]
  },
  {
   "cell_type": "code",
   "execution_count": null,
   "metadata": {
    "collapsed": true
   },
   "outputs": [],
   "source": [
    "%%time\n",
    "alphas = [0.00001, 0.0001, 0.001, 0.01, 0.1, 1, 10, 100, 1000]\n",
    "LassoModel = LassoCV(alphas = alphas)\n",
    "LassoModel.fit(X_train, Y_train)\n",
    "best_alpha = LassoModel.alpha_\n",
    "print 'Optimal alpha:', best_alpha\n",
    "plt.plot(np.log(alphas), LassoModel.mse_path_.mean(axis=-1))\n",
    "plt.xlabel('log(alpha)')\n",
    "plt.ylabel('mean squared error')\n",
    "\n",
    "LassoModel = LassoCV(alphas = [bset_alpha*0.3, best_alpha, best_alpha*3])\n",
    "LassoModel.fit(X_train, Y_train)\n",
    "best_alpha = LassoModel.alpha_\n",
    "print 'New optimal alpha:', best_alpha\n",
    "\n",
    "rmse_lasso = mean_squared_error(Y_valid, LassoModel.predict(X_valid))\n",
    "print rmse_lasso"
   ]
  },
  {
   "cell_type": "code",
   "execution_count": null,
   "metadata": {
    "collapsed": true
   },
   "outputs": [],
   "source": [
    "%%time\n",
    "alphas = [0.0001, 0.001, 0.01, 0.1, 1, 10, 100]\n",
    "l1_ratios = [0.1, 0.3, 0.5, 0.7, 0.9, 0.95, 0.99]\n",
    "EN = ElasticNetCV(l1_ratio=l1_ratios, alphas=alphas)\n",
    "EN.fit(X_train, Y_train)\n",
    "print 'Optimal alpha:', EN.alpha_\n",
    "print 'Optimal L1 ratio:', EN.l1_ratio_\n",
    "print mean_squared_error(Y_valid, EN.predict(X_valid))"
   ]
  }
 ],
 "metadata": {
  "kernelspec": {
   "display_name": "Python 2",
   "language": "python",
   "name": "python2"
  },
  "language_info": {
   "codemirror_mode": {
    "name": "ipython",
    "version": 2
   },
   "file_extension": ".py",
   "mimetype": "text/x-python",
   "name": "python",
   "nbconvert_exporter": "python",
   "pygments_lexer": "ipython2",
   "version": "2.7.11"
  }
 },
 "nbformat": 4,
 "nbformat_minor": 0
}
